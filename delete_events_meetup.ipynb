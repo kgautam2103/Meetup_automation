{
  "nbformat": 4,
  "nbformat_minor": 0,
  "metadata": {
    "colab": {
      "provenance": [],
      "authorship_tag": "ABX9TyOvfgHu1yPZsXMjD2huV4bA",
      "include_colab_link": true
    },
    "kernelspec": {
      "name": "python3",
      "display_name": "Python 3"
    },
    "language_info": {
      "name": "python"
    }
  },
  "cells": [
    {
      "cell_type": "markdown",
      "metadata": {
        "id": "view-in-github",
        "colab_type": "text"
      },
      "source": [
        "<a href=\"https://colab.research.google.com/github/kgautam2103/Meetup_automation/blob/main/delete_events_meetup.ipynb\" target=\"_parent\"><img src=\"https://colab.research.google.com/assets/colab-badge.svg\" alt=\"Open In Colab\"/></a>"
      ]
    },
    {
      "cell_type": "code",
      "source": [
        "# when you run this code, you will get a link below\n",
        "#Follow the link, copy the code, paste it in the box and then press Enter on the keyboard.\n",
        "#This will authenticate you and will allow you to interact with Google Sheets and other Google apps in your notebook.\n",
        "from google.colab import auth\n",
        "auth.authenticate_user()\n",
        "import gspread\n",
        "from google.auth import default\n",
        "creds, _ = default()\n",
        "\n",
        "gc = gspread.authorize(creds)"
      ],
      "metadata": {
        "id": "YhvN4Ra9tTOE"
      },
      "execution_count": null,
      "outputs": []
    },
    {
      "cell_type": "code",
      "execution_count": null,
      "metadata": {
        "colab": {
          "base_uri": "https://localhost:8080/"
        },
        "id": "EpGTypXReP2H",
        "outputId": "02fbf264-42f4-407c-c27c-4cab4d06e2bf"
      },
      "outputs": [
        {
          "output_type": "stream",
          "name": "stdout",
          "text": [
            "https://secure.meetup.com/oauth2/authorize?client_id=emgo5alo5672bdgr1k4bp6sn57&response_type=code&redirect_uri=https://us.sahajayoga.org/\n"
          ]
        }
      ],
      "source": [
        "client_key=\"\"\n",
        "\n",
        "client_redirect_url=\"https://us.sahajayoga.org/\"\n",
        "\n",
        "authorize_url = \"https://secure.meetup.com/oauth2/authorize?client_id=\"+client_key+\"&response_type=code&redirect_uri=\"+client_redirect_url\n",
        "\n",
        "print(authorize_url)"
      ]
    },
    {
      "cell_type": "code",
      "source": [
        "import requests\n",
        "import json\n",
        "import pandas as pd\n",
        "import time\n",
        "from datetime import datetime\n",
        "from dateutil import tz\n",
        "\n",
        "def get_access_refresh_token_from_code(access_code,client_secret, grant_type_code):\n",
        "  access_url = \"https://secure.meetup.com/oauth2/access?client_id=\"+client_key+\"&client_secret=\"+client_secret+\"&grant_type=\"+grant_type_code+\"&redirect_uri=\"+client_redirect_url+\"&code=\"+access_code\n",
        "\n",
        "\n",
        "  response = requests.post(access_url)\n",
        "\n",
        "  print(response.json())\n",
        "\n",
        "  access_token = response.json()[\"access_token\"]\n",
        "  refresh_token = response.json()[\"refresh_token\"]\n",
        "\n",
        "  return access_token,refresh_token\n",
        "\n",
        "\n",
        "def get_access_refresh_token_from_refresh(refresh_token,client_secret, grant_type_refresh):\n",
        "  access_url = \"https://secure.meetup.com/oauth2/access?client_id=\"+client_key+\"&client_secret=\"+client_secret+\"&grant_type=\"+grant_type_refresh+\"&refresh_token=\"+refresh_token\n",
        "\n",
        "\n",
        "  response = requests.post(access_url)\n",
        "\n",
        "  print(response.json())\n",
        "\n",
        "  access_token = response.json()[\"access_token\"]\n",
        "  refresh_token = response.json()[\"refresh_token\"]\n",
        "\n",
        "  return access_token,refresh_token\n",
        "\n",
        "\n",
        "access_code = input(\"please enter the access code recieved \")\n",
        "\n",
        "client_secret=\"\"\n",
        "\n",
        "grant_type_code = \"authorization_code\"\n",
        "\n",
        "grant_type_refresh = \"refresh_token\"\n",
        "\n",
        "meetup_api_url = \"https://api.meetup.com/gql\"\n",
        "\n",
        "#sheet_name = input('enter the start time in UTC in format 2022-12-31T13:45 : ')\n",
        "\n",
        "access_token,refresh_token = get_access_refresh_token_from_code(access_code,client_secret, grant_type_code)"
      ],
      "metadata": {
        "id": "jW0LsURqgQ05",
        "colab": {
          "base_uri": "https://localhost:8080/"
        },
        "outputId": "af17ed6f-18ca-474a-c4e0-57058e8c0270"
      },
      "execution_count": null,
      "outputs": [
        {
          "output_type": "stream",
          "name": "stdout",
          "text": [
            "please enter the access code recieved 586470b72f8be5f4c904054d63ce1889\n",
            "{'access_token': '385991dbb0e2b854598eb33eab1adc48', 'refresh_token': 'f0fbf5955c7971693da7eae7d69bfda6', 'token_type': 'bearer', 'expires_in': 3600}\n"
          ]
        }
      ]
    },
    {
      "cell_type": "code",
      "source": [
        "wb = gc.open_by_url('https://docs.google.com/spreadsheets/d/1uUDCnrPDJJUbZkUQu8YT8XDiv_ObSq5DXaTFKOQQEh0/edit#gid=0')\n",
        "\n",
        "current_ts = datetime.now().strftime('%Y%m%d%H%M%S')\n",
        "output_sheet = current_ts+'_event_delete_output_meetup'\n",
        "\n",
        "counter=1\n",
        "\n",
        "# create and Open our new sheet and add some data.\n",
        "sh = gc.create(output_sheet)\n",
        "output_sheet = gc.open(output_sheet).sheet1\n",
        "\n",
        "output_sheet.insert_row(['event_id','event_url','is_deleted','errors'],1)\n",
        "\n",
        "sheet_name = input('enter the name of input sheet : ')\n",
        "input_sheet = wb.worksheet(sheet_name)\n",
        "inputdata = input_sheet.get_all_values()\n",
        "inputdata_df = pd.DataFrame(inputdata, columns=['event_id','event_url'])\n",
        "inputdata_df = inputdata_df.drop(inputdata_df.index[0])\n",
        "\n",
        "for index,row in inputdata_df.iterrows():\n",
        "  counter = counter+1\n",
        "  is_deleted=\"\"\n",
        "  delete_event_error=\"\"\n",
        "  access_token,refresh_token = get_access_refresh_token_from_refresh(refresh_token,client_secret, grant_type_refresh)\n",
        "  authorization = 'Bearer ' + access_token\n",
        "  auth_headers = {\n",
        "    'Authorization': authorization,\n",
        "    'Content-Type': 'application/json'\n",
        "    }\n",
        "\n",
        "  print(\"access_token \"+access_token)\n",
        "  print(\"refresh_token \"+refresh_token)\n",
        "  cell_value_list = []\n",
        "  event_id = row['event_id']\n",
        "  event_url = row['event_url']\n",
        "\n",
        "  print(event_id)\n",
        "\n",
        "  delete_event_query = \"\"\"mutation($delete_event_input: DeleteEventInput!) {\n",
        "  deleteEvent(input: $delete_event_input) {\n",
        "      success\n",
        "      errors {\n",
        "        message\n",
        "        code\n",
        "        field\n",
        "      }\n",
        "    }\n",
        "  }\"\"\"\n",
        "\n",
        "  delete_event_variables = {\n",
        "    \"delete_event_input\": {\n",
        "      \"eventId\": event_id\n",
        "    }\n",
        "  }\n",
        "\n",
        "  delete_event_mutation_response = requests.post(meetup_api_url, json={'query': delete_event_query, 'variables': delete_event_variables}, headers=auth_headers)\n",
        "\n",
        "  print(delete_event_mutation_response.text)\n",
        "\n",
        "  is_deleted = delete_event_mutation_response.json()['data']['deleteEvent']['success']\n",
        "  try:\n",
        "    delete_event_error = delete_event_mutation_response.json()['data']['deleteEvent']['errors'][0]['message']\n",
        "  except:\n",
        "    delete_event_error=\"\"\n",
        "\n",
        "  cell_value_list = [event_id,event_url,is_deleted,delete_event_error]\n",
        "  output_sheet.insert_row(cell_value_list,counter)"
      ],
      "metadata": {
        "colab": {
          "base_uri": "https://localhost:8080/"
        },
        "id": "fU82l1RohB0O",
        "outputId": "1897c8a4-63c6-4d78-a135-3008d6ed3502"
      },
      "execution_count": null,
      "outputs": [
        {
          "output_type": "stream",
          "name": "stdout",
          "text": [
            "enter the name of input sheet : inputdata\n",
            "{'access_token': '8351241da8062790b5c934c334ad7956', 'refresh_token': 'f0fbf5955c7971693da7eae7d69bfda6', 'token_type': 'bearer', 'expires_in': 3600}\n",
            "access_token 8351241da8062790b5c934c334ad7956\n",
            "refresh_token f0fbf5955c7971693da7eae7d69bfda6\n",
            "290187241\n",
            "{\"data\":{\"deleteEvent\":{\"success\":true,\"errors\":[]}}}\n",
            "\n"
          ]
        }
      ]
    }
  ]
}